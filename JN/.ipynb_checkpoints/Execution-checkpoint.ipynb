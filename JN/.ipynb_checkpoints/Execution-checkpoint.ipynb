{
 "cells": [
  {
   "cell_type": "code",
   "execution_count": 1,
   "id": "f7ce743e-38c5-49c2-884d-4c1e7412c167",
   "metadata": {},
   "outputs": [
    {
     "name": "stdout",
     "output_type": "stream",
     "text": [
      "Requirement already satisfied: pytesseract in c:\\users\\aditya\\appdata\\local\\programs\\python\\python313\\lib\\site-packages (0.3.13)\n",
      "Requirement already satisfied: opencv-python in c:\\users\\aditya\\appdata\\local\\programs\\python\\python313\\lib\\site-packages (4.10.0.84)\n",
      "Requirement already satisfied: pillow in c:\\users\\aditya\\appdata\\local\\programs\\python\\python313\\lib\\site-packages (11.1.0)\n",
      "Requirement already satisfied: numpy in c:\\users\\aditya\\appdata\\local\\programs\\python\\python313\\lib\\site-packages (2.2.1)\n",
      "Requirement already satisfied: packaging>=21.3 in c:\\users\\aditya\\appdata\\local\\programs\\python\\python313\\lib\\site-packages (from pytesseract) (24.2)\n",
      "Note: you may need to restart the kernel to use updated packages.\n"
     ]
    }
   ],
   "source": [
    "pip install pytesseract opencv-python pillow numpy\n"
   ]
  },
  {
   "cell_type": "code",
   "execution_count": null,
   "id": "736b7648-7ccf-4d6f-9ed5-b5cae3742e61",
   "metadata": {},
   "outputs": [],
   "source": [
    "from PIL import Image\n",
    "import pytesseract\n",
    "\n",
    "# Path to Tesseract OCR executable (update path if needed)\n",
    "pytesseract.pytesseract.tesseract_cmd = r'C:\\Program Files\\Tesseract-OCR\\tesseract.exe'\n",
    "\n",
    "# Load image\n",
    "image_path = 'C:test.png'\n",
    "image = Image.open(image_path)\n",
    "\n",
    "# Extract text\n",
    "extracted_text = pytesseract.image_to_string(image)\n",
    "print(\"Extracted Text:\")\n",
    "print(extracted_text)\n"
   ]
  },
  {
   "cell_type": "code",
   "execution_count": null,
   "id": "fc8ef4c3-156b-4745-b814-44872fbdbe96",
   "metadata": {},
   "outputs": [],
   "source": [
    "from PIL import Image\n",
    "import pytesseract\n",
    "\n",
    "# Path to Tesseract OCR executable (update path if needed)\n",
    "pytesseract.pytesseract.tesseract_cmd = r'C:\\Program Files\\Tesseract-OCR\\tesseract.exe'\n",
    "\n",
    "# Load image\n",
    "image_path = 'C:test.png'\n",
    "image = Image.open(image_path)\n",
    "\n",
    "# Extract text\n",
    "extracted_text = pytesseract.image_to_string(image)\n",
    "print(\"Extracted Text:\")\n",
    "print(extracted_text)\n"
   ]
  },
  {
   "cell_type": "code",
   "execution_count": 2,
   "id": "7a932390-2b28-469a-8fe7-52ab746c316d",
   "metadata": {},
   "outputs": [
    {
     "name": "stdout",
     "output_type": "stream",
     "text": [
      "Requirement already satisfied: pyautogui in c:\\users\\aditya\\appdata\\local\\programs\\python\\python313\\lib\\site-packages (0.9.54)\n",
      "Requirement already satisfied: pymsgbox in c:\\users\\aditya\\appdata\\local\\programs\\python\\python313\\lib\\site-packages (from pyautogui) (1.0.9)\n",
      "Requirement already satisfied: pytweening>=1.0.4 in c:\\users\\aditya\\appdata\\local\\programs\\python\\python313\\lib\\site-packages (from pyautogui) (1.2.0)\n",
      "Requirement already satisfied: pyscreeze>=0.1.21 in c:\\users\\aditya\\appdata\\local\\programs\\python\\python313\\lib\\site-packages (from pyautogui) (1.0.1)\n",
      "Requirement already satisfied: pygetwindow>=0.0.5 in c:\\users\\aditya\\appdata\\local\\programs\\python\\python313\\lib\\site-packages (from pyautogui) (0.0.9)\n",
      "Requirement already satisfied: mouseinfo in c:\\users\\aditya\\appdata\\local\\programs\\python\\python313\\lib\\site-packages (from pyautogui) (0.1.3)\n",
      "Requirement already satisfied: pyrect in c:\\users\\aditya\\appdata\\local\\programs\\python\\python313\\lib\\site-packages (from pygetwindow>=0.0.5->pyautogui) (0.2.0)\n",
      "Requirement already satisfied: pyperclip in c:\\users\\aditya\\appdata\\local\\programs\\python\\python313\\lib\\site-packages (from mouseinfo->pyautogui) (1.9.0)\n",
      "Note: you may need to restart the kernel to use updated packages.\n"
     ]
    }
   ],
   "source": [
    "pip install pyautogui\n"
   ]
  },
  {
   "cell_type": "code",
   "execution_count": null,
   "id": "0ccfb9d2-5bfd-4133-8367-96deca0482f3",
   "metadata": {},
   "outputs": [],
   "source": []
  }
 ],
 "metadata": {
  "kernelspec": {
   "display_name": "Python 3 (ipykernel)",
   "language": "python",
   "name": "python3"
  },
  "language_info": {
   "codemirror_mode": {
    "name": "ipython",
    "version": 3
   },
   "file_extension": ".py",
   "mimetype": "text/x-python",
   "name": "python",
   "nbconvert_exporter": "python",
   "pygments_lexer": "ipython3",
   "version": "3.13.1"
  }
 },
 "nbformat": 4,
 "nbformat_minor": 5
}
