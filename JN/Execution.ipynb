{
 "cells": [
  {
   "cell_type": "code",
   "execution_count": 1,
   "id": "f7ce743e-38c5-49c2-884d-4c1e7412c167",
   "metadata": {},
   "outputs": [
    {
     "name": "stdout",
     "output_type": "stream",
     "text": [
      "Requirement already satisfied: pytesseract in c:\\users\\aditya\\appdata\\local\\programs\\python\\python313\\lib\\site-packages (0.3.13)\n",
      "Requirement already satisfied: opencv-python in c:\\users\\aditya\\appdata\\local\\programs\\python\\python313\\lib\\site-packages (4.10.0.84)\n",
      "Requirement already satisfied: pillow in c:\\users\\aditya\\appdata\\local\\programs\\python\\python313\\lib\\site-packages (11.1.0)\n",
      "Requirement already satisfied: numpy in c:\\users\\aditya\\appdata\\local\\programs\\python\\python313\\lib\\site-packages (2.2.1)\n",
      "Requirement already satisfied: packaging>=21.3 in c:\\users\\aditya\\appdata\\local\\programs\\python\\python313\\lib\\site-packages (from pytesseract) (24.2)\n",
      "Note: you may need to restart the kernel to use updated packages.\n"
     ]
    }
   ],
   "source": [
    "pip install pytesseract opencv-python pillow numpy\n"
   ]
  },
  {
   "cell_type": "code",
   "execution_count": null,
   "id": "736b7648-7ccf-4d6f-9ed5-b5cae3742e61",
   "metadata": {},
   "outputs": [],
   "source": [
    "from PIL import Image\n",
    "import pytesseract\n",
    "\n",
    "# Path to Tesseract OCR executable (update path if needed)\n",
    "pytesseract.pytesseract.tesseract_cmd = r'C:\\Program Files\\Tesseract-OCR\\tesseract.exe'\n",
    "\n",
    "# Load image\n",
    "image_path = 'C:test.png'\n",
    "image = Image.open(image_path)\n",
    "\n",
    "# Extract text\n",
    "extracted_text = pytesseract.image_to_string(image)\n",
    "print(\"Extracted Text:\")\n",
    "print(extracted_text)\n"
   ]
  },
  {
   "cell_type": "code",
   "execution_count": null,
   "id": "fc8ef4c3-156b-4745-b814-44872fbdbe96",
   "metadata": {},
   "outputs": [],
   "source": [
    "from PIL import Image\n",
    "import pytesseract\n",
    "\n",
    "# Path to Tesseract OCR executable (update path if needed)\n",
    "pytesseract.pytesseract.tesseract_cmd = r'C:\\Program Files\\Tesseract-OCR\\tesseract.exe'\n",
    "\n",
    "# Load image\n",
    "image_path = 'C:test.png'\n",
    "image = Image.open(image_path)\n",
    "\n",
    "# Extract text\n",
    "extracted_text = pytesseract.image_to_string(image)\n",
    "print(\"Extracted Text:\")\n",
    "print(extracted_text)\n"
   ]
  },
  {
   "cell_type": "code",
   "execution_count": 2,
   "id": "7a932390-2b28-469a-8fe7-52ab746c316d",
   "metadata": {},
   "outputs": [
    {
     "name": "stdout",
     "output_type": "stream",
     "text": [
      "Requirement already satisfied: pyautogui in c:\\users\\aditya\\appdata\\local\\programs\\python\\python313\\lib\\site-packages (0.9.54)\n",
      "Requirement already satisfied: pymsgbox in c:\\users\\aditya\\appdata\\local\\programs\\python\\python313\\lib\\site-packages (from pyautogui) (1.0.9)\n",
      "Requirement already satisfied: pytweening>=1.0.4 in c:\\users\\aditya\\appdata\\local\\programs\\python\\python313\\lib\\site-packages (from pyautogui) (1.2.0)\n",
      "Requirement already satisfied: pyscreeze>=0.1.21 in c:\\users\\aditya\\appdata\\local\\programs\\python\\python313\\lib\\site-packages (from pyautogui) (1.0.1)\n",
      "Requirement already satisfied: pygetwindow>=0.0.5 in c:\\users\\aditya\\appdata\\local\\programs\\python\\python313\\lib\\site-packages (from pyautogui) (0.0.9)\n",
      "Requirement already satisfied: mouseinfo in c:\\users\\aditya\\appdata\\local\\programs\\python\\python313\\lib\\site-packages (from pyautogui) (0.1.3)\n",
      "Requirement already satisfied: pyrect in c:\\users\\aditya\\appdata\\local\\programs\\python\\python313\\lib\\site-packages (from pygetwindow>=0.0.5->pyautogui) (0.2.0)\n",
      "Requirement already satisfied: pyperclip in c:\\users\\aditya\\appdata\\local\\programs\\python\\python313\\lib\\site-packages (from mouseinfo->pyautogui) (1.9.0)\n",
      "Note: you may need to restart the kernel to use updated packages.\n"
     ]
    }
   ],
   "source": [
    "pip install pyautogui\n"
   ]
  },
  {
   "cell_type": "code",
   "execution_count": 5,
   "id": "0af7c160-fb20-4819-a3cd-a1dca25d9e4d",
   "metadata": {},
   "outputs": [
    {
     "name": "stdout",
     "output_type": "stream",
     "text": [
      "Requirement already satisfied: camelot-py in c:\\users\\aditya\\appdata\\roaming\\python\\python313\\site-packages (1.0.0)\n",
      "Requirement already satisfied: click>=8.0.1 in c:\\users\\aditya\\appdata\\roaming\\python\\python313\\site-packages (from camelot-py) (8.1.8)\n",
      "Requirement already satisfied: chardet>=5.1.0 in c:\\users\\aditya\\appdata\\roaming\\python\\python313\\site-packages (from camelot-py) (5.2.0)\n",
      "Requirement already satisfied: numpy>=1.26.1 in c:\\users\\aditya\\appdata\\local\\programs\\python\\python313\\lib\\site-packages (from camelot-py) (2.2.1)\n",
      "Requirement already satisfied: openpyxl>=3.1.0 in c:\\users\\aditya\\appdata\\roaming\\python\\python313\\site-packages (from camelot-py) (3.1.5)\n",
      "Requirement already satisfied: pdfminer-six>=20240706 in c:\\users\\aditya\\appdata\\roaming\\python\\python313\\site-packages (from camelot-py) (20240706)\n",
      "Requirement already satisfied: pypdf<6.0,>=4.0 in c:\\users\\aditya\\appdata\\local\\programs\\python\\python313\\lib\\site-packages (from camelot-py) (5.1.0)\n",
      "Requirement already satisfied: pandas>=2.2.2 in c:\\users\\aditya\\appdata\\roaming\\python\\python313\\site-packages (from camelot-py) (2.2.3)\n",
      "Requirement already satisfied: tabulate>=0.9.0 in c:\\users\\aditya\\appdata\\local\\programs\\python\\python313\\lib\\site-packages (from camelot-py) (0.9.0)\n",
      "Requirement already satisfied: opencv-python-headless>=4.7.0.68 in c:\\users\\aditya\\appdata\\roaming\\python\\python313\\site-packages (from camelot-py) (4.11.0.86)\n",
      "Requirement already satisfied: pypdfium2>=4 in c:\\users\\aditya\\appdata\\local\\programs\\python\\python313\\lib\\site-packages (from camelot-py) (4.30.1)\n",
      "Requirement already satisfied: colorama in c:\\users\\aditya\\appdata\\local\\programs\\python\\python313\\lib\\site-packages (from click>=8.0.1->camelot-py) (0.4.6)\n",
      "Requirement already satisfied: et-xmlfile in c:\\users\\aditya\\appdata\\roaming\\python\\python313\\site-packages (from openpyxl>=3.1.0->camelot-py) (2.0.0)\n",
      "Requirement already satisfied: python-dateutil>=2.8.2 in c:\\users\\aditya\\appdata\\local\\programs\\python\\python313\\lib\\site-packages (from pandas>=2.2.2->camelot-py) (2.9.0.post0)\n",
      "Requirement already satisfied: pytz>=2020.1 in c:\\users\\aditya\\appdata\\local\\programs\\python\\python313\\lib\\site-packages (from pandas>=2.2.2->camelot-py) (2024.2)\n",
      "Requirement already satisfied: tzdata>=2022.7 in c:\\users\\aditya\\appdata\\local\\programs\\python\\python313\\lib\\site-packages (from pandas>=2.2.2->camelot-py) (2024.2)\n",
      "Requirement already satisfied: charset-normalizer>=2.0.0 in c:\\users\\aditya\\appdata\\local\\programs\\python\\python313\\lib\\site-packages (from pdfminer-six>=20240706->camelot-py) (3.4.0)\n",
      "Requirement already satisfied: cryptography>=36.0.0 in c:\\users\\aditya\\appdata\\roaming\\python\\python313\\site-packages (from pdfminer-six>=20240706->camelot-py) (44.0.0)\n",
      "Requirement already satisfied: cffi>=1.12 in c:\\users\\aditya\\appdata\\local\\programs\\python\\python313\\lib\\site-packages (from cryptography>=36.0.0->pdfminer-six>=20240706->camelot-py) (1.17.1)\n",
      "Requirement already satisfied: six>=1.5 in c:\\users\\aditya\\appdata\\local\\programs\\python\\python313\\lib\\site-packages (from python-dateutil>=2.8.2->pandas>=2.2.2->camelot-py) (1.17.0)\n",
      "Requirement already satisfied: pycparser in c:\\users\\aditya\\appdata\\local\\programs\\python\\python313\\lib\\site-packages (from cffi>=1.12->cryptography>=36.0.0->pdfminer-six>=20240706->camelot-py) (2.22)\n",
      "Note: you may need to restart the kernel to use updated packages.\n"
     ]
    }
   ],
   "source": [
    "pip install camelot-py"
   ]
  },
  {
   "cell_type": "code",
   "execution_count": 1,
   "id": "9a3ebcdd-7097-4f5a-a9b1-8b4c690f28c5",
   "metadata": {},
   "outputs": [
    {
     "name": "stdout",
     "output_type": "stream",
     "text": [
      "<TableList n=1>\n"
     ]
    }
   ],
   "source": [
    "import camelot\n",
    "\n",
    "# Replace 'example.pdf' with the path to a PDF file with tables\n",
    "tables = camelot.read_pdf('C:/example.pdf', pages='10')\n",
    "print(tables)\n",
    "tables[0].to_csv('TableOutput.csv')  # Save the first table to a CSV file\n"
   ]
  },
  {
   "cell_type": "code",
   "execution_count": 3,
   "id": "387edc9c-9ad1-4b4b-a3b0-c884a0ae591a",
   "metadata": {},
   "outputs": [
    {
     "name": "stdout",
     "output_type": "stream",
     "text": [
      "Choose an option:\n",
      "1. Extract Text from Image\n",
      "2. Extract Tabular Data\n"
     ]
    },
    {
     "name": "stdin",
     "output_type": "stream",
     "text": [
      "Enter your choice (1 or 2):  1\n",
      "Upload an image file (enter the file path):  C:\\test2.png\n"
     ]
    },
    {
     "name": "stdout",
     "output_type": "stream",
     "text": [
      "\n",
      "Choose an option:\n",
      "1. Extract text from the entire image\n",
      "2. Select a specific region\n"
     ]
    },
    {
     "name": "stdin",
     "output_type": "stream",
     "text": [
      "Enter your choice (1 or 2):  1\n"
     ]
    },
    {
     "name": "stdout",
     "output_type": "stream",
     "text": [
      "\n",
      "Extracted Text:\n",
      " Tomorrow, and\n",
      "‘tomorrow, and\n",
      "tomorrow; creeps\n",
      "in this petty pace\n",
      "from day to day,\n",
      "until the last syll-\n",
      "able of recorded\n",
      "time. And all our\n",
      "yesterdays have\n",
      "lighted fools the\n",
      "way to dusty\n",
      "\n",
      "\n"
     ]
    }
   ],
   "source": [
    "import pytesseract\n",
    "from PIL import Image\n",
    "import pyautogui\n",
    "import camelot\n",
    "\n",
    "# Path to Tesseract OCR executable (update this based on your system)\n",
    "pytesseract.pytesseract.tesseract_cmd = r'C:\\Program Files\\Tesseract-OCR\\tesseract.exe'\n",
    "\n",
    "\n",
    "# --- Case 1: Extract Text from Image ---\n",
    "def extract_text_from_image(image_path=None, region=None):\n",
    "    \"\"\"\n",
    "    Extract text from an image file or a selected region on the screen.\n",
    "    :param image_path: Path to the image file (optional).\n",
    "    :param region: Tuple (x, y, width, height) for a screen region (optional).\n",
    "    :return: Extracted text as a string.\n",
    "    \"\"\"\n",
    "    if image_path:\n",
    "        # Load image from file\n",
    "        img = Image.open(image_path)\n",
    "    elif region:\n",
    "        # Capture specific region on the screen\n",
    "        screenshot = pyautogui.screenshot(region=region)\n",
    "        screenshot.save(\"selected_region.png\")\n",
    "        img = Image.open(\"selected_region.png\")\n",
    "    else:\n",
    "        raise ValueError(\"Either image_path or region must be provided.\")\n",
    "\n",
    "    # Extract text using Tesseract\n",
    "    extracted_text = pytesseract.image_to_string(img)\n",
    "    return extracted_text\n",
    "\n",
    "\n",
    "# --- Case 2: Extract Tables from PDF ---\n",
    "def extract_tables_from_pdf(pdf_path, page_number=None):\n",
    "    \"\"\"\n",
    "    Extract tables from a PDF file and save them to CSV.\n",
    "    :param pdf_path: Path to the PDF file.\n",
    "    :param page_number: Specific page number to extract tables from (optional).\n",
    "    :return: List of table data (or CSV files saved).\n",
    "    \"\"\"\n",
    "    if page_number:\n",
    "        tables = camelot.read_pdf(pdf_path, pages=str(page_number))\n",
    "    else:\n",
    "        tables = camelot.read_pdf(pdf_path, pages='all')\n",
    "\n",
    "    if not tables:\n",
    "        return \"No tables found in the specified PDF.\"\n",
    "\n",
    "    # Save each table to a CSV file\n",
    "    for i, table in enumerate(tables):\n",
    "        table.to_csv(f\"table_{i + 1}.csv\")\n",
    "\n",
    "    return f\"Extracted {len(tables)} table(s) and saved to CSV.\"\n",
    "\n",
    "\n",
    "# --- Main Program ---\n",
    "if __name__ == \"__main__\":\n",
    "    print(\"Choose an option:\")\n",
    "    print(\"1. Extract Text from Image\")\n",
    "    print(\"2. Extract Tabular Data\")\n",
    "\n",
    "    choice = input(\"Enter your choice (1 or 2): \")\n",
    "\n",
    "    if choice == \"1\":\n",
    "        # Case 1: Extract Text from Image\n",
    "        image_path = input(\"Upload an image file (enter the file path): \")\n",
    "        print(\"\\nChoose an option:\")\n",
    "        print(\"1. Extract text from the entire image\")\n",
    "        print(\"2. Select a specific region\")\n",
    "\n",
    "        sub_choice = input(\"Enter your choice (1 or 2): \")\n",
    "\n",
    "        if sub_choice == \"1\":\n",
    "            # Extract text from the entire image\n",
    "            text = extract_text_from_image(image_path=image_path)\n",
    "            print(\"\\nExtracted Text:\\n\", text)\n",
    "        elif sub_choice == \"2\":\n",
    "            # Select a specific region\n",
    "            print(\"Drag and select an area on the screen (example region: x=100, y=100, width=500, height=300).\")\n",
    "            x, y, width, height = map(int, input(\"Enter x, y, width, height: \").split())\n",
    "            text = extract_text_from_image(region=(x, y, width, height))\n",
    "            print(\"\\nExtracted Text from Selected Region:\\n\", text)\n",
    "        else:\n",
    "            print(\"Invalid choice.\")\n",
    "\n",
    "    elif choice == \"2\":\n",
    "        # Case 2: Extract Tabular Data\n",
    "        pdf_path = input(\"Upload a PDF file (enter the file path): \")\n",
    "        print(\"\\nChoose an option:\")\n",
    "        print(\"1. Extract all tables\")\n",
    "        print(\"2. Extract tables from a specific page\")\n",
    "\n",
    "        sub_choice = input(\"Enter your choice (1 or 2): \")\n",
    "\n",
    "        if sub_choice == \"1\":\n",
    "            # Extract all tables\n",
    "            result = extract_tables_from_pdf(pdf_path)\n",
    "            print(result)\n",
    "        elif sub_choice == \"2\":\n",
    "            # Extract tables from a specific page\n",
    "            page_number = int(input(\"Enter the page number: \"))\n",
    "            result = extract_tables_from_pdf(pdf_path, page_number=page_number)\n",
    "            print(result)\n",
    "        else:\n",
    "            print(\"Invalid choice.\")\n",
    "    else:\n",
    "        print(\"Invalid choice. Please restart the program.\")\n"
   ]
  },
  {
   "cell_type": "code",
   "execution_count": null,
   "id": "dc07cb31-d924-4d89-a6d0-144a61645564",
   "metadata": {},
   "outputs": [],
   "source": [
    "code with feature to copy extracted text"
   ]
  },
  {
   "cell_type": "code",
   "execution_count": 5,
   "id": "f8e7c889-665c-4bf2-b98c-a98ae66a6e45",
   "metadata": {},
   "outputs": [
    {
     "name": "stdout",
     "output_type": "stream",
     "text": [
      "Choose an option:\n",
      "1. Extract Text from Image\n",
      "2. Extract Tabular Data\n"
     ]
    },
    {
     "name": "stdin",
     "output_type": "stream",
     "text": [
      "Enter your choice (1 or 2):  1\n",
      "Upload an image file (enter the file path):  C:\\test2.png\n"
     ]
    },
    {
     "name": "stdout",
     "output_type": "stream",
     "text": [
      "\n",
      "Choose an option:\n",
      "1. Extract text from the entire image\n",
      "2. Select a specific region\n"
     ]
    },
    {
     "name": "stdin",
     "output_type": "stream",
     "text": [
      "Enter your choice (1 or 2):  1\n"
     ]
    },
    {
     "name": "stdout",
     "output_type": "stream",
     "text": [
      "\n",
      "Extracted Text:\n",
      " Tomorrow, and\n",
      "‘tomorrow, and\n",
      "tomorrow; creeps\n",
      "in this petty pace\n",
      "from day to day,\n",
      "until the last syll-\n",
      "able of recorded\n",
      "time. And all our\n",
      "yesterdays have\n",
      "lighted fools the\n",
      "way to dusty\n",
      "\n",
      "\n"
     ]
    },
    {
     "name": "stdin",
     "output_type": "stream",
     "text": [
      "\n",
      "Do you want to copy this text to the clipboard? (yes/no):  yes\n"
     ]
    },
    {
     "name": "stdout",
     "output_type": "stream",
     "text": [
      "\n",
      "Text has been copied to the clipboard.\n"
     ]
    }
   ],
   "source": [
    "import pytesseract\n",
    "from PIL import Image\n",
    "import pyautogui\n",
    "import camelot\n",
    "import pyperclip  # Import pyperclip for clipboard functionality\n",
    "\n",
    "# Path to Tesseract OCR executable (update this based on your system)\n",
    "pytesseract.pytesseract.tesseract_cmd = r'C:\\Program Files\\Tesseract-OCR\\tesseract.exe'\n",
    "\n",
    "\n",
    "# --- Case 1: Extract Text from Image ---\n",
    "def extract_text_from_image(image_path=None, region=None):\n",
    "    \"\"\"\n",
    "    Extract text from an image file or a selected region on the screen.\n",
    "    :param image_path: Path to the image file (optional).\n",
    "    :param region: Tuple (x, y, width, height) for a screen region (optional).\n",
    "    :return: Extracted text as a string.\n",
    "    \"\"\"\n",
    "    if image_path:\n",
    "        # Load image from file\n",
    "        img = Image.open(image_path)\n",
    "    elif region:\n",
    "        # Capture specific region on the screen\n",
    "        screenshot = pyautogui.screenshot(region=region)\n",
    "        screenshot.save(\"selected_region.png\")\n",
    "        img = Image.open(\"selected_region.png\")\n",
    "    else:\n",
    "        raise ValueError(\"Either image_path or region must be provided.\")\n",
    "\n",
    "    # Extract text using Tesseract\n",
    "    extracted_text = pytesseract.image_to_string(img)\n",
    "    return extracted_text\n",
    "\n",
    "\n",
    "# --- Case 2: Extract Tables from PDF ---\n",
    "def extract_tables_from_pdf(pdf_path, page_number=None):\n",
    "    \"\"\"\n",
    "    Extract tables from a PDF file and save them to CSV.\n",
    "    :param pdf_path: Path to the PDF file.\n",
    "    :param page_number: Specific page number to extract tables from (optional).\n",
    "    :return: List of table data (or CSV files saved).\n",
    "    \"\"\"\n",
    "    if page_number:\n",
    "        tables = camelot.read_pdf(pdf_path, pages=str(page_number))\n",
    "    else:\n",
    "        tables = camelot.read_pdf(pdf_path, pages='all')\n",
    "\n",
    "    if not tables:\n",
    "        return \"No tables found in the specified PDF.\"\n",
    "\n",
    "    # Save each table to a CSV file\n",
    "    for i, table in enumerate(tables):\n",
    "        table.to_csv(f\"table_{i + 1}.csv\")\n",
    "\n",
    "    return f\"Extracted {len(tables)} table(s) and saved to CSV.\"\n",
    "\n",
    "\n",
    "# --- Case 3: Copy Text to Clipboard ---\n",
    "def copy_text_to_clipboard(text):\n",
    "    \"\"\"\n",
    "    Copy the extracted text to the clipboard.\n",
    "    :param text: Text to be copied to the clipboard.\n",
    "    \"\"\"\n",
    "    pyperclip.copy(text)\n",
    "    print(\"\\nText has been copied to the clipboard.\")\n",
    "\n",
    "\n",
    "# --- Main Program ---\n",
    "if __name__ == \"__main__\":\n",
    "    print(\"Choose an option:\")\n",
    "    print(\"1. Extract Text from Image\")\n",
    "    print(\"2. Extract Tabular Data\")\n",
    "\n",
    "    choice = input(\"Enter your choice (1 or 2): \")\n",
    "\n",
    "    if choice == \"1\":\n",
    "        # Case 1: Extract Text from Image\n",
    "        image_path = input(\"Upload an image file (enter the file path): \")\n",
    "        print(\"\\nChoose an option:\")\n",
    "        print(\"1. Extract text from the entire image\")\n",
    "        print(\"2. Select a specific region\")\n",
    "\n",
    "        sub_choice = input(\"Enter your choice (1 or 2): \")\n",
    "\n",
    "        if sub_choice == \"1\":\n",
    "            # Extract text from the entire image\n",
    "            text = extract_text_from_image(image_path=image_path)\n",
    "            print(\"\\nExtracted Text:\\n\", text)\n",
    "            copy_option = input(\"\\nDo you want to copy this text to the clipboard? (yes/no): \")\n",
    "            if copy_option.lower() == \"yes\":\n",
    "                copy_text_to_clipboard(text)\n",
    "        elif sub_choice == \"2\":\n",
    "            # Select a specific region\n",
    "            print(\"Drag and select an area on the screen (example region: x=100, y=100, width=500, height=300).\")\n",
    "            x, y, width, height = map(int, input(\"Enter x, y, width, height: \").split())\n",
    "            text = extract_text_from_image(region=(x, y, width, height))\n",
    "            print(\"\\nExtracted Text from Selected Region:\\n\", text)\n",
    "            copy_option = input(\"\\nDo you want to copy this text to the clipboard? (yes/no): \")\n",
    "            if copy_option.lower() == \"yes\":\n",
    "                copy_text_to_clipboard(text)\n",
    "        else:\n",
    "            print(\"Invalid choice.\")\n",
    "\n",
    "    elif choice == \"2\":\n",
    "        # Case 2: Extract Tabular Data\n",
    "        pdf_path = input(\"Upload a PDF file (enter the file path): \")\n",
    "        print(\"\\nChoose an option:\")\n",
    "        print(\"1. Extract all tables\")\n",
    "        print(\"2. Extract tables from a specific page\")\n",
    "\n",
    "        sub_choice = input(\"Enter your choice (1 or 2): \")\n",
    "\n",
    "        if sub_choice == \"1\":\n",
    "            # Extract all tables\n",
    "            result = extract_tables_from_pdf(pdf_path)\n",
    "            print(result)\n",
    "        elif sub_choice == \"2\":\n",
    "            # Extract tables from a specific page\n",
    "            page_number = int(input(\"Enter the page number: \"))\n",
    "            result = extract_tables_from_pdf(pdf_path, page_number=page_number)\n",
    "            print(result)\n",
    "        else:\n",
    "            print(\"Invalid choice.\")\n",
    "    else:\n",
    "        print(\"Invalid choice. Please restart the program.\")\n"
   ]
  },
  {
   "cell_type": "code",
   "execution_count": null,
   "id": "f8aaa5db-f517-4d95-b994-5a69f8fb59eb",
   "metadata": {},
   "outputs": [],
   "source": [
    "Tomorrow, and\n",
    "‘tomorrow, and\n",
    "tomorrow; creeps\n",
    "in this petty pace\n",
    "from day to day,\n",
    "until the last syll-\n",
    "able of recorded\n",
    "time. And all our\n",
    "yesterdays have\n",
    "lighted fools the\n",
    "way to dusty"
   ]
  },
  {
   "cell_type": "code",
   "execution_count": null,
   "id": "523787db-ce12-4980-83f8-49b51a9beefd",
   "metadata": {},
   "outputs": [],
   "source": []
  }
 ],
 "metadata": {
  "kernelspec": {
   "display_name": "Python 3 (ipykernel)",
   "language": "python",
   "name": "python3"
  },
  "language_info": {
   "codemirror_mode": {
    "name": "ipython",
    "version": 3
   },
   "file_extension": ".py",
   "mimetype": "text/x-python",
   "name": "python",
   "nbconvert_exporter": "python",
   "pygments_lexer": "ipython3",
   "version": "3.13.1"
  }
 },
 "nbformat": 4,
 "nbformat_minor": 5
}
